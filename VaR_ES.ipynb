{
  "nbformat": 4,
  "nbformat_minor": 0,
  "metadata": {
    "colab": {
      "provenance": []
    },
    "kernelspec": {
      "name": "python3",
      "display_name": "Python 3"
    },
    "language_info": {
      "name": "python"
    }
  },
  "cells": [
    {
      "cell_type": "markdown",
      "source": [
        "Ce notebook montre comment mesurer le risque de perte d’un portefeuille avec :\n",
        "- **VaR historique**\n",
        "- **VaR paramétrique (normale)**\n",
        "- **Expected Shortfall (ES)**\n",
        "- **Méthode Monte Carlo**\n"
      ],
      "metadata": {
        "id": "eLrIX-LH_zM-"
      }
    },
    {
      "cell_type": "code",
      "execution_count": null,
      "metadata": {
        "id": "s_C9qyN98f1Y"
      },
      "outputs": [],
      "source": [
        "import yfinance as yf\n",
        "import numpy as np\n",
        "import matplotlib.pyplot as plt\n",
        "import scipy.stats as st\n"
      ]
    },
    {
      "cell_type": "code",
      "source": [
        "\n",
        "tickers = [\"AAPL\",\"MSFT\",\"SPY\"]\n",
        "data = yf.download(tickers, start=\"2020-01-01\", end=\"2023-12-31\", auto_adjust=False)[\"Adj Close\"]\n",
        "data.head()\n"
      ],
      "metadata": {
        "colab": {
          "base_uri": "https://localhost:8080/",
          "height": 255
        },
        "id": "IkNlHjeLAFZT",
        "outputId": "d58c0e87-2f72-451e-cf36-1b1d25bbfb09"
      },
      "execution_count": null,
      "outputs": [
        {
          "output_type": "stream",
          "name": "stderr",
          "text": [
            "[*********************100%***********************]  3 of 3 completed\n"
          ]
        },
        {
          "output_type": "execute_result",
          "data": {
            "text/plain": [
              "Ticker           AAPL        MSFT         SPY\n",
              "Date                                         \n",
              "2020-01-02  72.538506  153.042313  299.406403\n",
              "2020-01-03  71.833298  151.136612  297.139252\n",
              "2020-01-06  72.405678  151.527298  298.272888\n",
              "2020-01-07  72.065140  150.145706  297.434204\n",
              "2020-01-08  73.224426  152.537277  299.019409"
            ],
            "text/html": [
              "\n",
              "  <div id=\"df-65c138d9-77b4-431d-b7bf-ffa5f6b32e2f\" class=\"colab-df-container\">\n",
              "    <div>\n",
              "<style scoped>\n",
              "    .dataframe tbody tr th:only-of-type {\n",
              "        vertical-align: middle;\n",
              "    }\n",
              "\n",
              "    .dataframe tbody tr th {\n",
              "        vertical-align: top;\n",
              "    }\n",
              "\n",
              "    .dataframe thead th {\n",
              "        text-align: right;\n",
              "    }\n",
              "</style>\n",
              "<table border=\"1\" class=\"dataframe\">\n",
              "  <thead>\n",
              "    <tr style=\"text-align: right;\">\n",
              "      <th>Ticker</th>\n",
              "      <th>AAPL</th>\n",
              "      <th>MSFT</th>\n",
              "      <th>SPY</th>\n",
              "    </tr>\n",
              "    <tr>\n",
              "      <th>Date</th>\n",
              "      <th></th>\n",
              "      <th></th>\n",
              "      <th></th>\n",
              "    </tr>\n",
              "  </thead>\n",
              "  <tbody>\n",
              "    <tr>\n",
              "      <th>2020-01-02</th>\n",
              "      <td>72.538506</td>\n",
              "      <td>153.042313</td>\n",
              "      <td>299.406403</td>\n",
              "    </tr>\n",
              "    <tr>\n",
              "      <th>2020-01-03</th>\n",
              "      <td>71.833298</td>\n",
              "      <td>151.136612</td>\n",
              "      <td>297.139252</td>\n",
              "    </tr>\n",
              "    <tr>\n",
              "      <th>2020-01-06</th>\n",
              "      <td>72.405678</td>\n",
              "      <td>151.527298</td>\n",
              "      <td>298.272888</td>\n",
              "    </tr>\n",
              "    <tr>\n",
              "      <th>2020-01-07</th>\n",
              "      <td>72.065140</td>\n",
              "      <td>150.145706</td>\n",
              "      <td>297.434204</td>\n",
              "    </tr>\n",
              "    <tr>\n",
              "      <th>2020-01-08</th>\n",
              "      <td>73.224426</td>\n",
              "      <td>152.537277</td>\n",
              "      <td>299.019409</td>\n",
              "    </tr>\n",
              "  </tbody>\n",
              "</table>\n",
              "</div>\n",
              "    <div class=\"colab-df-buttons\">\n",
              "\n",
              "  <div class=\"colab-df-container\">\n",
              "    <button class=\"colab-df-convert\" onclick=\"convertToInteractive('df-65c138d9-77b4-431d-b7bf-ffa5f6b32e2f')\"\n",
              "            title=\"Convert this dataframe to an interactive table.\"\n",
              "            style=\"display:none;\">\n",
              "\n",
              "  <svg xmlns=\"http://www.w3.org/2000/svg\" height=\"24px\" viewBox=\"0 -960 960 960\">\n",
              "    <path d=\"M120-120v-720h720v720H120Zm60-500h600v-160H180v160Zm220 220h160v-160H400v160Zm0 220h160v-160H400v160ZM180-400h160v-160H180v160Zm440 0h160v-160H620v160ZM180-180h160v-160H180v160Zm440 0h160v-160H620v160Z\"/>\n",
              "  </svg>\n",
              "    </button>\n",
              "\n",
              "  <style>\n",
              "    .colab-df-container {\n",
              "      display:flex;\n",
              "      gap: 12px;\n",
              "    }\n",
              "\n",
              "    .colab-df-convert {\n",
              "      background-color: #E8F0FE;\n",
              "      border: none;\n",
              "      border-radius: 50%;\n",
              "      cursor: pointer;\n",
              "      display: none;\n",
              "      fill: #1967D2;\n",
              "      height: 32px;\n",
              "      padding: 0 0 0 0;\n",
              "      width: 32px;\n",
              "    }\n",
              "\n",
              "    .colab-df-convert:hover {\n",
              "      background-color: #E2EBFA;\n",
              "      box-shadow: 0px 1px 2px rgba(60, 64, 67, 0.3), 0px 1px 3px 1px rgba(60, 64, 67, 0.15);\n",
              "      fill: #174EA6;\n",
              "    }\n",
              "\n",
              "    .colab-df-buttons div {\n",
              "      margin-bottom: 4px;\n",
              "    }\n",
              "\n",
              "    [theme=dark] .colab-df-convert {\n",
              "      background-color: #3B4455;\n",
              "      fill: #D2E3FC;\n",
              "    }\n",
              "\n",
              "    [theme=dark] .colab-df-convert:hover {\n",
              "      background-color: #434B5C;\n",
              "      box-shadow: 0px 1px 3px 1px rgba(0, 0, 0, 0.15);\n",
              "      filter: drop-shadow(0px 1px 2px rgba(0, 0, 0, 0.3));\n",
              "      fill: #FFFFFF;\n",
              "    }\n",
              "  </style>\n",
              "\n",
              "    <script>\n",
              "      const buttonEl =\n",
              "        document.querySelector('#df-65c138d9-77b4-431d-b7bf-ffa5f6b32e2f button.colab-df-convert');\n",
              "      buttonEl.style.display =\n",
              "        google.colab.kernel.accessAllowed ? 'block' : 'none';\n",
              "\n",
              "      async function convertToInteractive(key) {\n",
              "        const element = document.querySelector('#df-65c138d9-77b4-431d-b7bf-ffa5f6b32e2f');\n",
              "        const dataTable =\n",
              "          await google.colab.kernel.invokeFunction('convertToInteractive',\n",
              "                                                    [key], {});\n",
              "        if (!dataTable) return;\n",
              "\n",
              "        const docLinkHtml = 'Like what you see? Visit the ' +\n",
              "          '<a target=\"_blank\" href=https://colab.research.google.com/notebooks/data_table.ipynb>data table notebook</a>'\n",
              "          + ' to learn more about interactive tables.';\n",
              "        element.innerHTML = '';\n",
              "        dataTable['output_type'] = 'display_data';\n",
              "        await google.colab.output.renderOutput(dataTable, element);\n",
              "        const docLink = document.createElement('div');\n",
              "        docLink.innerHTML = docLinkHtml;\n",
              "        element.appendChild(docLink);\n",
              "      }\n",
              "    </script>\n",
              "  </div>\n",
              "\n",
              "\n",
              "    <div id=\"df-25f5368f-ba14-4670-8c24-c3bc9c826dc0\">\n",
              "      <button class=\"colab-df-quickchart\" onclick=\"quickchart('df-25f5368f-ba14-4670-8c24-c3bc9c826dc0')\"\n",
              "                title=\"Suggest charts\"\n",
              "                style=\"display:none;\">\n",
              "\n",
              "<svg xmlns=\"http://www.w3.org/2000/svg\" height=\"24px\"viewBox=\"0 0 24 24\"\n",
              "     width=\"24px\">\n",
              "    <g>\n",
              "        <path d=\"M19 3H5c-1.1 0-2 .9-2 2v14c0 1.1.9 2 2 2h14c1.1 0 2-.9 2-2V5c0-1.1-.9-2-2-2zM9 17H7v-7h2v7zm4 0h-2V7h2v10zm4 0h-2v-4h2v4z\"/>\n",
              "    </g>\n",
              "</svg>\n",
              "      </button>\n",
              "\n",
              "<style>\n",
              "  .colab-df-quickchart {\n",
              "      --bg-color: #E8F0FE;\n",
              "      --fill-color: #1967D2;\n",
              "      --hover-bg-color: #E2EBFA;\n",
              "      --hover-fill-color: #174EA6;\n",
              "      --disabled-fill-color: #AAA;\n",
              "      --disabled-bg-color: #DDD;\n",
              "  }\n",
              "\n",
              "  [theme=dark] .colab-df-quickchart {\n",
              "      --bg-color: #3B4455;\n",
              "      --fill-color: #D2E3FC;\n",
              "      --hover-bg-color: #434B5C;\n",
              "      --hover-fill-color: #FFFFFF;\n",
              "      --disabled-bg-color: #3B4455;\n",
              "      --disabled-fill-color: #666;\n",
              "  }\n",
              "\n",
              "  .colab-df-quickchart {\n",
              "    background-color: var(--bg-color);\n",
              "    border: none;\n",
              "    border-radius: 50%;\n",
              "    cursor: pointer;\n",
              "    display: none;\n",
              "    fill: var(--fill-color);\n",
              "    height: 32px;\n",
              "    padding: 0;\n",
              "    width: 32px;\n",
              "  }\n",
              "\n",
              "  .colab-df-quickchart:hover {\n",
              "    background-color: var(--hover-bg-color);\n",
              "    box-shadow: 0 1px 2px rgba(60, 64, 67, 0.3), 0 1px 3px 1px rgba(60, 64, 67, 0.15);\n",
              "    fill: var(--button-hover-fill-color);\n",
              "  }\n",
              "\n",
              "  .colab-df-quickchart-complete:disabled,\n",
              "  .colab-df-quickchart-complete:disabled:hover {\n",
              "    background-color: var(--disabled-bg-color);\n",
              "    fill: var(--disabled-fill-color);\n",
              "    box-shadow: none;\n",
              "  }\n",
              "\n",
              "  .colab-df-spinner {\n",
              "    border: 2px solid var(--fill-color);\n",
              "    border-color: transparent;\n",
              "    border-bottom-color: var(--fill-color);\n",
              "    animation:\n",
              "      spin 1s steps(1) infinite;\n",
              "  }\n",
              "\n",
              "  @keyframes spin {\n",
              "    0% {\n",
              "      border-color: transparent;\n",
              "      border-bottom-color: var(--fill-color);\n",
              "      border-left-color: var(--fill-color);\n",
              "    }\n",
              "    20% {\n",
              "      border-color: transparent;\n",
              "      border-left-color: var(--fill-color);\n",
              "      border-top-color: var(--fill-color);\n",
              "    }\n",
              "    30% {\n",
              "      border-color: transparent;\n",
              "      border-left-color: var(--fill-color);\n",
              "      border-top-color: var(--fill-color);\n",
              "      border-right-color: var(--fill-color);\n",
              "    }\n",
              "    40% {\n",
              "      border-color: transparent;\n",
              "      border-right-color: var(--fill-color);\n",
              "      border-top-color: var(--fill-color);\n",
              "    }\n",
              "    60% {\n",
              "      border-color: transparent;\n",
              "      border-right-color: var(--fill-color);\n",
              "    }\n",
              "    80% {\n",
              "      border-color: transparent;\n",
              "      border-right-color: var(--fill-color);\n",
              "      border-bottom-color: var(--fill-color);\n",
              "    }\n",
              "    90% {\n",
              "      border-color: transparent;\n",
              "      border-bottom-color: var(--fill-color);\n",
              "    }\n",
              "  }\n",
              "</style>\n",
              "\n",
              "      <script>\n",
              "        async function quickchart(key) {\n",
              "          const quickchartButtonEl =\n",
              "            document.querySelector('#' + key + ' button');\n",
              "          quickchartButtonEl.disabled = true;  // To prevent multiple clicks.\n",
              "          quickchartButtonEl.classList.add('colab-df-spinner');\n",
              "          try {\n",
              "            const charts = await google.colab.kernel.invokeFunction(\n",
              "                'suggestCharts', [key], {});\n",
              "          } catch (error) {\n",
              "            console.error('Error during call to suggestCharts:', error);\n",
              "          }\n",
              "          quickchartButtonEl.classList.remove('colab-df-spinner');\n",
              "          quickchartButtonEl.classList.add('colab-df-quickchart-complete');\n",
              "        }\n",
              "        (() => {\n",
              "          let quickchartButtonEl =\n",
              "            document.querySelector('#df-25f5368f-ba14-4670-8c24-c3bc9c826dc0 button');\n",
              "          quickchartButtonEl.style.display =\n",
              "            google.colab.kernel.accessAllowed ? 'block' : 'none';\n",
              "        })();\n",
              "      </script>\n",
              "    </div>\n",
              "\n",
              "    </div>\n",
              "  </div>\n"
            ],
            "application/vnd.google.colaboratory.intrinsic+json": {
              "type": "dataframe",
              "variable_name": "data",
              "summary": "{\n  \"name\": \"data\",\n  \"rows\": 1006,\n  \"fields\": [\n    {\n      \"column\": \"Date\",\n      \"properties\": {\n        \"dtype\": \"date\",\n        \"min\": \"2020-01-02 00:00:00\",\n        \"max\": \"2023-12-29 00:00:00\",\n        \"num_unique_values\": 1006,\n        \"samples\": [\n          \"2023-09-08 00:00:00\",\n          \"2022-07-05 00:00:00\",\n          \"2022-09-16 00:00:00\"\n        ],\n        \"semantic_type\": \"\",\n        \"description\": \"\"\n      }\n    },\n    {\n      \"column\": \"AAPL\",\n      \"properties\": {\n        \"dtype\": \"number\",\n        \"std\": 33.42141001749448,\n        \"min\": 54.31693649291992,\n        \"max\": 196.4468231201172,\n        \"num_unique_values\": 994,\n        \"samples\": [\n          172.52017211914062,\n          173.04562377929688,\n          164.58377075195312\n        ],\n        \"semantic_type\": \"\",\n        \"description\": \"\"\n      }\n    },\n    {\n      \"column\": \"MSFT\",\n      \"properties\": {\n        \"dtype\": \"number\",\n        \"std\": 55.12911193608375,\n        \"min\": 129.38360595703125,\n        \"max\": 378.4046325683594,\n        \"num_unique_values\": 999,\n        \"samples\": [\n          299.642333984375,\n          249.7126922607422,\n          194.31805419921875\n        ],\n        \"semantic_type\": \"\",\n        \"description\": \"\"\n      }\n    },\n    {\n      \"column\": \"SPY\",\n      \"properties\": {\n        \"dtype\": \"number\",\n        \"std\": 53.76423648140574,\n        \"min\": 206.68325805664062,\n        \"max\": 467.85809326171875,\n        \"num_unique_values\": 995,\n        \"samples\": [\n          438.6836242675781,\n          428.9993896484375,\n          419.8157653808594\n        ],\n        \"semantic_type\": \"\",\n        \"description\": \"\"\n      }\n    }\n  ]\n}"
            }
          },
          "metadata": {},
          "execution_count": 6
        }
      ]
    },
    {
      "cell_type": "markdown",
      "source": [
        "📊 3. Rendements du portefeuille"
      ],
      "metadata": {
        "id": "bAGm9p5oBqm6"
      }
    },
    {
      "cell_type": "code",
      "source": [
        "weights = [1/3,1/3,1/3]\n",
        "returns = data.pct_change().dropna()\n",
        "portfolio_returns = returns.dot(weights)\n",
        "portfolio_returns.head()"
      ],
      "metadata": {
        "colab": {
          "base_uri": "https://localhost:8080/",
          "height": 272
        },
        "id": "SQUuN9l1BZ37",
        "outputId": "044f261a-2330-42a8-db59-d990249d56cb"
      },
      "execution_count": null,
      "outputs": [
        {
          "output_type": "execute_result",
          "data": {
            "text/plain": [
              "Date\n",
              "2020-01-03   -0.009915\n",
              "2020-01-06    0.004789\n",
              "2020-01-07   -0.005544\n",
              "2020-01-08    0.012448\n",
              "2020-01-09    0.013505\n",
              "dtype: float64"
            ],
            "text/html": [
              "<div>\n",
              "<style scoped>\n",
              "    .dataframe tbody tr th:only-of-type {\n",
              "        vertical-align: middle;\n",
              "    }\n",
              "\n",
              "    .dataframe tbody tr th {\n",
              "        vertical-align: top;\n",
              "    }\n",
              "\n",
              "    .dataframe thead th {\n",
              "        text-align: right;\n",
              "    }\n",
              "</style>\n",
              "<table border=\"1\" class=\"dataframe\">\n",
              "  <thead>\n",
              "    <tr style=\"text-align: right;\">\n",
              "      <th></th>\n",
              "      <th>0</th>\n",
              "    </tr>\n",
              "    <tr>\n",
              "      <th>Date</th>\n",
              "      <th></th>\n",
              "    </tr>\n",
              "  </thead>\n",
              "  <tbody>\n",
              "    <tr>\n",
              "      <th>2020-01-03</th>\n",
              "      <td>-0.009915</td>\n",
              "    </tr>\n",
              "    <tr>\n",
              "      <th>2020-01-06</th>\n",
              "      <td>0.004789</td>\n",
              "    </tr>\n",
              "    <tr>\n",
              "      <th>2020-01-07</th>\n",
              "      <td>-0.005544</td>\n",
              "    </tr>\n",
              "    <tr>\n",
              "      <th>2020-01-08</th>\n",
              "      <td>0.012448</td>\n",
              "    </tr>\n",
              "    <tr>\n",
              "      <th>2020-01-09</th>\n",
              "      <td>0.013505</td>\n",
              "    </tr>\n",
              "  </tbody>\n",
              "</table>\n",
              "</div><br><label><b>dtype:</b> float64</label>"
            ]
          },
          "metadata": {},
          "execution_count": 7
        }
      ]
    },
    {
      "cell_type": "markdown",
      "source": [
        "📉 4. Fonctions VaR & ES"
      ],
      "metadata": {
        "id": "o3fJSzpgCG8j"
      }
    },
    {
      "cell_type": "code",
      "source": [
        "\n",
        "def var_historical(returns, alpha=0.05):\n",
        "    return np.percentile(returns, 100*alpha)\n",
        "\n",
        "def es_historical(returns, alpha=0.05):\n",
        "    var = var_historical(returns, alpha)\n",
        "    return returns[returns <= var].mean()\n",
        "\n",
        "def var_parametric(returns, alpha=0.05):\n",
        "    mu, sigma = returns.mean(), returns.std()\n",
        "    return mu + sigma * st.norm.ppf(alpha)\n",
        "\n",
        "def es_parametric(returns, alpha=0.05):\n",
        "    mu, sigma = returns.mean(), returns.std()\n",
        "    return mu - sigma * st.norm.pdf(st.norm.ppf(alpha)) / alpha\n",
        "\n",
        "def var_es_montecarlo(returns, alpha=0.05, n_sim=100000):\n",
        "    mu, sigma = returns.mean(), returns.std()\n",
        "    sims = np.random.normal(mu, sigma, n_sim)\n",
        "    var = np.percentile(sims, 100*alpha)\n",
        "    es = sims[sims <= var].mean()\n",
        "    return var, es\n"
      ],
      "metadata": {
        "id": "9fwwKPK-CI80"
      },
      "execution_count": null,
      "outputs": []
    },
    {
      "cell_type": "markdown",
      "source": [
        "5. Calcul et comparaison"
      ],
      "metadata": {
        "id": "bYAC7CAECXx6"
      }
    },
    {
      "cell_type": "code",
      "source": [
        "alpha = 0.05\n",
        "results = {\n",
        "    \"Historique\": (var_historical(portfolio_returns, alpha), es_historical(portfolio_returns, alpha)),\n",
        "    \"Paramétrique\": (var_parametric(portfolio_returns, alpha), es_parametric(portfolio_returns, alpha)),\n",
        "    \"Monte Carlo\": var_es_montecarlo(portfolio_returns, alpha)\n",
        "}\n",
        "\n",
        "for method,(var,es) in results.items():\n",
        "    print(f\"{method}: VaR={var:.4%}, ES={es:.4%}\")\n",
        "\n"
      ],
      "metadata": {
        "colab": {
          "base_uri": "https://localhost:8080/"
        },
        "id": "qZML5EtxCeJI",
        "outputId": "f319bfbc-2192-4a01-dd71-c3796b9ea949"
      },
      "execution_count": null,
      "outputs": [
        {
          "output_type": "stream",
          "name": "stdout",
          "text": [
            "Historique: VaR=-2.5799%, ES=-3.9597%\n",
            "Paramétrique: VaR=-2.7669%, ES=-3.4937%\n",
            "Monte Carlo: VaR=-2.7671%, ES=-3.4996%\n"
          ]
        }
      ]
    },
    {
      "cell_type": "markdown",
      "source": [
        "6. Visualisations"
      ],
      "metadata": {
        "id": "JGBZ6eeqDL-F"
      }
    },
    {
      "cell_type": "code",
      "source": [
        "plt.hist(portfolio_returns, bins=50, alpha=0.7)\n",
        "plt.axvline(results[\"Historique\"][0], color='red', linestyle='--', label=f\"VaR 95%\")\n",
        "plt.legend()\n",
        "plt.title(\"Distribution des rendements avec VaR 95%\")\n",
        "plt.show()\n",
        "\n",
        "# Comparaison\n",
        "methods = list(results.keys())\n",
        "var_values = [v[0] for v in results.values()]\n",
        "es_values = [v[1] for v in results.values()]\n",
        "\n",
        "x = np.arange(len(methods))\n",
        "plt.bar(x-0.2, var_values, 0.4, label=\"VaR\")\n",
        "plt.bar(x+0.2, es_values, 0.4, label=\"ES\")\n",
        "plt.xticks(x, methods)\n",
        "plt.legend()\n",
        "plt.title(\"Comparaison des méthodes VaR & ES\")\n",
        "plt.show()"
      ],
      "metadata": {
        "colab": {
          "base_uri": "https://localhost:8080/",
          "height": 888
        },
        "id": "JBjUEtv0DOFQ",
        "outputId": "2cf1776f-12b1-4e54-fd11-451615cb28d1"
      },
      "execution_count": null,
      "outputs": [
        {
          "output_type": "display_data",
          "data": {
            "text/plain": [
              "<Figure size 640x480 with 1 Axes>"
            ],
            "image/png": "[encoded data removed]"
          },
          "metadata": {}
        },
        {
          "output_type": "display_data",
          "data": {
            "text/plain": [
              "<Figure size 640x480 with 1 Axes>"
            ],
            "image/png": "[encoded data removed]"
          },
          "metadata": {}
        }
      ]
    }
  ]
}